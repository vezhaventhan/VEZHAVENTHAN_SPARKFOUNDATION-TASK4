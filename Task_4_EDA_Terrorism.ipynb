{
  "nbformat": 4,
  "nbformat_minor": 0,
  "metadata": {
    "kernelspec": {
      "display_name": "Python 3",
      "language": "python",
      "name": "python3"
    },
    "language_info": {
      "codemirror_mode": {
        "name": "ipython",
        "version": 3
      },
      "file_extension": ".py",
      "mimetype": "text/x-python",
      "name": "python",
      "nbconvert_exporter": "python",
      "pygments_lexer": "ipython3",
      "version": "3.8.3"
    },
    "colab": {
      "name": "Task-4 EDA-Terrorism",
      "provenance": []
    }
  },
  "cells": [
    {
      "cell_type": "markdown",
      "metadata": {
        "id": "YawnHmOQ86d7"
      },
      "source": [
        "# VEZHAVENTHAN N\n",
        "\n"
      ]
    },
    {
      "cell_type": "markdown",
      "metadata": {
        "id": "I05ycDYx86eJ"
      },
      "source": [
        "# Task-4 Exploratory Data Analysis"
      ]
    },
    {
      "cell_type": "markdown",
      "metadata": {
        "id": "NYt4mXfV86eL"
      },
      "source": [
        "### Libraries"
      ]
    },
    {
      "cell_type": "code",
      "metadata": {
        "id": "xtalfo-_86eN"
      },
      "source": [
        "import pandas as pd\n",
        "import numpy as np\n",
        "import os\n",
        "import matplotlib.pyplot as plt\n",
        "import seaborn as sns\n"
      ],
      "execution_count": null,
      "outputs": []
    },
    {
      "cell_type": "code",
      "metadata": {
        "id": "y_lzTqs286eQ"
      },
      "source": [
        "import warnings\n",
        "warnings.simplefilter(\"ignore\")"
      ],
      "execution_count": null,
      "outputs": []
    },
    {
      "cell_type": "markdown",
      "metadata": {
        "id": "mgranGvb86eS"
      },
      "source": [
        "### Load dataset"
      ]
    },
    {
      "cell_type": "code",
      "metadata": {
        "id": "k4H1VS3B86eT"
      },
      "source": [
        "data=pd.read_csv('globalterrorismdb_0718dist.csv',encoding='latin1')"
      ],
      "execution_count": null,
      "outputs": []
    },
    {
      "cell_type": "code",
      "metadata": {
        "scrolled": false,
        "id": "E1CFtLDi86eV",
        "outputId": "c818959d-6ae1-4cc5-a864-3436bdb4f65a"
      },
      "source": [
        "data.head()"
      ],
      "execution_count": null,
      "outputs": [
        {
          "output_type": "execute_result",
          "data": {
            "text/html": [
              "<div>\n",
              "<style scoped>\n",
              "    .dataframe tbody tr th:only-of-type {\n",
              "        vertical-align: middle;\n",
              "    }\n",
              "\n",
              "    .dataframe tbody tr th {\n",
              "        vertical-align: top;\n",
              "    }\n",
              "\n",
              "    .dataframe thead th {\n",
              "        text-align: right;\n",
              "    }\n",
              "</style>\n",
              "<table border=\"1\" class=\"dataframe\">\n",
              "  <thead>\n",
              "    <tr style=\"text-align: right;\">\n",
              "      <th></th>\n",
              "      <th>eventid</th>\n",
              "      <th>iyear</th>\n",
              "      <th>imonth</th>\n",
              "      <th>iday</th>\n",
              "      <th>approxdate</th>\n",
              "      <th>extended</th>\n",
              "      <th>resolution</th>\n",
              "      <th>country</th>\n",
              "      <th>country_txt</th>\n",
              "      <th>region</th>\n",
              "      <th>...</th>\n",
              "      <th>addnotes</th>\n",
              "      <th>scite1</th>\n",
              "      <th>scite2</th>\n",
              "      <th>scite3</th>\n",
              "      <th>dbsource</th>\n",
              "      <th>INT_LOG</th>\n",
              "      <th>INT_IDEO</th>\n",
              "      <th>INT_MISC</th>\n",
              "      <th>INT_ANY</th>\n",
              "      <th>related</th>\n",
              "    </tr>\n",
              "  </thead>\n",
              "  <tbody>\n",
              "    <tr>\n",
              "      <th>0</th>\n",
              "      <td>197000000001</td>\n",
              "      <td>1970</td>\n",
              "      <td>7</td>\n",
              "      <td>2</td>\n",
              "      <td>NaN</td>\n",
              "      <td>0</td>\n",
              "      <td>NaN</td>\n",
              "      <td>58</td>\n",
              "      <td>Dominican Republic</td>\n",
              "      <td>2</td>\n",
              "      <td>...</td>\n",
              "      <td>NaN</td>\n",
              "      <td>NaN</td>\n",
              "      <td>NaN</td>\n",
              "      <td>NaN</td>\n",
              "      <td>PGIS</td>\n",
              "      <td>0</td>\n",
              "      <td>0</td>\n",
              "      <td>0</td>\n",
              "      <td>0</td>\n",
              "      <td>NaN</td>\n",
              "    </tr>\n",
              "    <tr>\n",
              "      <th>1</th>\n",
              "      <td>197000000002</td>\n",
              "      <td>1970</td>\n",
              "      <td>0</td>\n",
              "      <td>0</td>\n",
              "      <td>NaN</td>\n",
              "      <td>0</td>\n",
              "      <td>NaN</td>\n",
              "      <td>130</td>\n",
              "      <td>Mexico</td>\n",
              "      <td>1</td>\n",
              "      <td>...</td>\n",
              "      <td>NaN</td>\n",
              "      <td>NaN</td>\n",
              "      <td>NaN</td>\n",
              "      <td>NaN</td>\n",
              "      <td>PGIS</td>\n",
              "      <td>0</td>\n",
              "      <td>1</td>\n",
              "      <td>1</td>\n",
              "      <td>1</td>\n",
              "      <td>NaN</td>\n",
              "    </tr>\n",
              "    <tr>\n",
              "      <th>2</th>\n",
              "      <td>197001000001</td>\n",
              "      <td>1970</td>\n",
              "      <td>1</td>\n",
              "      <td>0</td>\n",
              "      <td>NaN</td>\n",
              "      <td>0</td>\n",
              "      <td>NaN</td>\n",
              "      <td>160</td>\n",
              "      <td>Philippines</td>\n",
              "      <td>5</td>\n",
              "      <td>...</td>\n",
              "      <td>NaN</td>\n",
              "      <td>NaN</td>\n",
              "      <td>NaN</td>\n",
              "      <td>NaN</td>\n",
              "      <td>PGIS</td>\n",
              "      <td>-9</td>\n",
              "      <td>-9</td>\n",
              "      <td>1</td>\n",
              "      <td>1</td>\n",
              "      <td>NaN</td>\n",
              "    </tr>\n",
              "    <tr>\n",
              "      <th>3</th>\n",
              "      <td>197001000002</td>\n",
              "      <td>1970</td>\n",
              "      <td>1</td>\n",
              "      <td>0</td>\n",
              "      <td>NaN</td>\n",
              "      <td>0</td>\n",
              "      <td>NaN</td>\n",
              "      <td>78</td>\n",
              "      <td>Greece</td>\n",
              "      <td>8</td>\n",
              "      <td>...</td>\n",
              "      <td>NaN</td>\n",
              "      <td>NaN</td>\n",
              "      <td>NaN</td>\n",
              "      <td>NaN</td>\n",
              "      <td>PGIS</td>\n",
              "      <td>-9</td>\n",
              "      <td>-9</td>\n",
              "      <td>1</td>\n",
              "      <td>1</td>\n",
              "      <td>NaN</td>\n",
              "    </tr>\n",
              "    <tr>\n",
              "      <th>4</th>\n",
              "      <td>197001000003</td>\n",
              "      <td>1970</td>\n",
              "      <td>1</td>\n",
              "      <td>0</td>\n",
              "      <td>NaN</td>\n",
              "      <td>0</td>\n",
              "      <td>NaN</td>\n",
              "      <td>101</td>\n",
              "      <td>Japan</td>\n",
              "      <td>4</td>\n",
              "      <td>...</td>\n",
              "      <td>NaN</td>\n",
              "      <td>NaN</td>\n",
              "      <td>NaN</td>\n",
              "      <td>NaN</td>\n",
              "      <td>PGIS</td>\n",
              "      <td>-9</td>\n",
              "      <td>-9</td>\n",
              "      <td>1</td>\n",
              "      <td>1</td>\n",
              "      <td>NaN</td>\n",
              "    </tr>\n",
              "  </tbody>\n",
              "</table>\n",
              "<p>5 rows × 135 columns</p>\n",
              "</div>"
            ],
            "text/plain": [
              "        eventid  iyear  imonth  iday approxdate  extended resolution  country  \\\n",
              "0  197000000001   1970       7     2        NaN         0        NaN       58   \n",
              "1  197000000002   1970       0     0        NaN         0        NaN      130   \n",
              "2  197001000001   1970       1     0        NaN         0        NaN      160   \n",
              "3  197001000002   1970       1     0        NaN         0        NaN       78   \n",
              "4  197001000003   1970       1     0        NaN         0        NaN      101   \n",
              "\n",
              "          country_txt  region  ... addnotes scite1 scite2  scite3  dbsource  \\\n",
              "0  Dominican Republic       2  ...      NaN    NaN    NaN     NaN      PGIS   \n",
              "1              Mexico       1  ...      NaN    NaN    NaN     NaN      PGIS   \n",
              "2         Philippines       5  ...      NaN    NaN    NaN     NaN      PGIS   \n",
              "3              Greece       8  ...      NaN    NaN    NaN     NaN      PGIS   \n",
              "4               Japan       4  ...      NaN    NaN    NaN     NaN      PGIS   \n",
              "\n",
              "   INT_LOG  INT_IDEO INT_MISC INT_ANY  related  \n",
              "0        0         0        0       0      NaN  \n",
              "1        0         1        1       1      NaN  \n",
              "2       -9        -9        1       1      NaN  \n",
              "3       -9        -9        1       1      NaN  \n",
              "4       -9        -9        1       1      NaN  \n",
              "\n",
              "[5 rows x 135 columns]"
            ]
          },
          "metadata": {
            "tags": []
          },
          "execution_count": 6
        }
      ]
    },
    {
      "cell_type": "markdown",
      "metadata": {
        "id": "yHr1FiDl86eZ"
      },
      "source": [
        "### Select particular Column"
      ]
    },
    {
      "cell_type": "code",
      "metadata": {
        "id": "WM8eVoSw86eb",
        "outputId": "648850a3-68f0-428d-bda7-84bfe129eeb7"
      },
      "source": [
        "df=data.copy()\n",
        "\n",
        "data=data[['iyear', 'imonth', 'iday','extended', 'country_txt', \n",
        "       'region_txt', 'city', 'success', 'suicide','nwound','nkill',\n",
        "       'targtype1_txt', 'gname', 'weaptype1_txt']]\n",
        "data.head()"
      ],
      "execution_count": null,
      "outputs": [
        {
          "output_type": "execute_result",
          "data": {
            "text/html": [
              "<div>\n",
              "<style scoped>\n",
              "    .dataframe tbody tr th:only-of-type {\n",
              "        vertical-align: middle;\n",
              "    }\n",
              "\n",
              "    .dataframe tbody tr th {\n",
              "        vertical-align: top;\n",
              "    }\n",
              "\n",
              "    .dataframe thead th {\n",
              "        text-align: right;\n",
              "    }\n",
              "</style>\n",
              "<table border=\"1\" class=\"dataframe\">\n",
              "  <thead>\n",
              "    <tr style=\"text-align: right;\">\n",
              "      <th></th>\n",
              "      <th>iyear</th>\n",
              "      <th>imonth</th>\n",
              "      <th>iday</th>\n",
              "      <th>extended</th>\n",
              "      <th>country_txt</th>\n",
              "      <th>region_txt</th>\n",
              "      <th>city</th>\n",
              "      <th>success</th>\n",
              "      <th>suicide</th>\n",
              "      <th>nwound</th>\n",
              "      <th>nkill</th>\n",
              "      <th>targtype1_txt</th>\n",
              "      <th>gname</th>\n",
              "      <th>weaptype1_txt</th>\n",
              "    </tr>\n",
              "  </thead>\n",
              "  <tbody>\n",
              "    <tr>\n",
              "      <th>0</th>\n",
              "      <td>1970</td>\n",
              "      <td>7</td>\n",
              "      <td>2</td>\n",
              "      <td>0</td>\n",
              "      <td>Dominican Republic</td>\n",
              "      <td>Central America &amp; Caribbean</td>\n",
              "      <td>Santo Domingo</td>\n",
              "      <td>1</td>\n",
              "      <td>0</td>\n",
              "      <td>0.0</td>\n",
              "      <td>1.0</td>\n",
              "      <td>Private Citizens &amp; Property</td>\n",
              "      <td>MANO-D</td>\n",
              "      <td>Unknown</td>\n",
              "    </tr>\n",
              "    <tr>\n",
              "      <th>1</th>\n",
              "      <td>1970</td>\n",
              "      <td>0</td>\n",
              "      <td>0</td>\n",
              "      <td>0</td>\n",
              "      <td>Mexico</td>\n",
              "      <td>North America</td>\n",
              "      <td>Mexico city</td>\n",
              "      <td>1</td>\n",
              "      <td>0</td>\n",
              "      <td>0.0</td>\n",
              "      <td>0.0</td>\n",
              "      <td>Government (Diplomatic)</td>\n",
              "      <td>23rd of September Communist League</td>\n",
              "      <td>Unknown</td>\n",
              "    </tr>\n",
              "    <tr>\n",
              "      <th>2</th>\n",
              "      <td>1970</td>\n",
              "      <td>1</td>\n",
              "      <td>0</td>\n",
              "      <td>0</td>\n",
              "      <td>Philippines</td>\n",
              "      <td>Southeast Asia</td>\n",
              "      <td>Unknown</td>\n",
              "      <td>1</td>\n",
              "      <td>0</td>\n",
              "      <td>0.0</td>\n",
              "      <td>1.0</td>\n",
              "      <td>Journalists &amp; Media</td>\n",
              "      <td>Unknown</td>\n",
              "      <td>Unknown</td>\n",
              "    </tr>\n",
              "    <tr>\n",
              "      <th>3</th>\n",
              "      <td>1970</td>\n",
              "      <td>1</td>\n",
              "      <td>0</td>\n",
              "      <td>0</td>\n",
              "      <td>Greece</td>\n",
              "      <td>Western Europe</td>\n",
              "      <td>Athens</td>\n",
              "      <td>1</td>\n",
              "      <td>0</td>\n",
              "      <td>NaN</td>\n",
              "      <td>NaN</td>\n",
              "      <td>Government (Diplomatic)</td>\n",
              "      <td>Unknown</td>\n",
              "      <td>Explosives</td>\n",
              "    </tr>\n",
              "    <tr>\n",
              "      <th>4</th>\n",
              "      <td>1970</td>\n",
              "      <td>1</td>\n",
              "      <td>0</td>\n",
              "      <td>0</td>\n",
              "      <td>Japan</td>\n",
              "      <td>East Asia</td>\n",
              "      <td>Fukouka</td>\n",
              "      <td>1</td>\n",
              "      <td>0</td>\n",
              "      <td>NaN</td>\n",
              "      <td>NaN</td>\n",
              "      <td>Government (Diplomatic)</td>\n",
              "      <td>Unknown</td>\n",
              "      <td>Incendiary</td>\n",
              "    </tr>\n",
              "  </tbody>\n",
              "</table>\n",
              "</div>"
            ],
            "text/plain": [
              "   iyear  imonth  iday  extended         country_txt  \\\n",
              "0   1970       7     2         0  Dominican Republic   \n",
              "1   1970       0     0         0              Mexico   \n",
              "2   1970       1     0         0         Philippines   \n",
              "3   1970       1     0         0              Greece   \n",
              "4   1970       1     0         0               Japan   \n",
              "\n",
              "                    region_txt           city  success  suicide  nwound  \\\n",
              "0  Central America & Caribbean  Santo Domingo        1        0     0.0   \n",
              "1                North America    Mexico city        1        0     0.0   \n",
              "2               Southeast Asia        Unknown        1        0     0.0   \n",
              "3               Western Europe         Athens        1        0     NaN   \n",
              "4                    East Asia        Fukouka        1        0     NaN   \n",
              "\n",
              "   nkill                targtype1_txt                               gname  \\\n",
              "0    1.0  Private Citizens & Property                              MANO-D   \n",
              "1    0.0      Government (Diplomatic)  23rd of September Communist League   \n",
              "2    1.0          Journalists & Media                             Unknown   \n",
              "3    NaN      Government (Diplomatic)                             Unknown   \n",
              "4    NaN      Government (Diplomatic)                             Unknown   \n",
              "\n",
              "  weaptype1_txt  \n",
              "0       Unknown  \n",
              "1       Unknown  \n",
              "2       Unknown  \n",
              "3    Explosives  \n",
              "4    Incendiary  "
            ]
          },
          "metadata": {
            "tags": []
          },
          "execution_count": 7
        }
      ]
    },
    {
      "cell_type": "code",
      "metadata": {
        "scrolled": true,
        "id": "w7pMic3v86ed",
        "outputId": "9e0107a3-3ce7-404d-c125-e5a6f35a9938"
      },
      "source": [
        "data.columns"
      ],
      "execution_count": null,
      "outputs": [
        {
          "output_type": "execute_result",
          "data": {
            "text/plain": [
              "Index(['iyear', 'imonth', 'iday', 'extended', 'country_txt', 'region_txt',\n",
              "       'city', 'success', 'suicide', 'nwound', 'nkill', 'targtype1_txt',\n",
              "       'gname', 'weaptype1_txt'],\n",
              "      dtype='object')"
            ]
          },
          "metadata": {
            "tags": []
          },
          "execution_count": 8
        }
      ]
    },
    {
      "cell_type": "markdown",
      "metadata": {
        "id": "VcDE3l5H86ef"
      },
      "source": [
        "### Check null values or not"
      ]
    },
    {
      "cell_type": "code",
      "metadata": {
        "id": "ZCK9ak3a86eg",
        "outputId": "6f0568be-1d69-4b4c-cb08-0bf29e605fc3"
      },
      "source": [
        "data.isnull().sum()"
      ],
      "execution_count": null,
      "outputs": [
        {
          "output_type": "execute_result",
          "data": {
            "text/plain": [
              "iyear                0\n",
              "imonth               0\n",
              "iday                 0\n",
              "extended             0\n",
              "country_txt          0\n",
              "region_txt           0\n",
              "city               434\n",
              "success              0\n",
              "suicide              0\n",
              "nwound           16311\n",
              "nkill            10313\n",
              "targtype1_txt        0\n",
              "gname                0\n",
              "weaptype1_txt        0\n",
              "dtype: int64"
            ]
          },
          "metadata": {
            "tags": []
          },
          "execution_count": 9
        }
      ]
    },
    {
      "cell_type": "markdown",
      "metadata": {
        "id": "UHsYEIVr86ei"
      },
      "source": [
        "### drop null values"
      ]
    },
    {
      "cell_type": "code",
      "metadata": {
        "id": "5ECpT8sa86ej"
      },
      "source": [
        "data.dropna(axis=0, inplace=True)"
      ],
      "execution_count": null,
      "outputs": []
    },
    {
      "cell_type": "markdown",
      "metadata": {
        "id": "uPlhg-tQ86ek"
      },
      "source": [
        "### Renaming columns"
      ]
    },
    {
      "cell_type": "code",
      "metadata": {
        "scrolled": false,
        "id": "CyqD2e7d86el",
        "outputId": "3e980f43-d933-42de-9d89-c4b224d6636e"
      },
      "source": [
        "data.rename(columns={'iyear': 'year', 'imonth': 'month', 'iday':'day', 'country_txt':'country','attacktype1_txt':'attactype','nwound':'wound','nkill':'killed',\n",
        "                  'region_txt':'region', 'targtype1_txt':'target', 'gname':'group', 'weaptype1_txt':'weapon'}, inplace=True)\n",
        "data.head()"
      ],
      "execution_count": null,
      "outputs": [
        {
          "output_type": "execute_result",
          "data": {
            "text/html": [
              "<div>\n",
              "<style scoped>\n",
              "    .dataframe tbody tr th:only-of-type {\n",
              "        vertical-align: middle;\n",
              "    }\n",
              "\n",
              "    .dataframe tbody tr th {\n",
              "        vertical-align: top;\n",
              "    }\n",
              "\n",
              "    .dataframe thead th {\n",
              "        text-align: right;\n",
              "    }\n",
              "</style>\n",
              "<table border=\"1\" class=\"dataframe\">\n",
              "  <thead>\n",
              "    <tr style=\"text-align: right;\">\n",
              "      <th></th>\n",
              "      <th>year</th>\n",
              "      <th>month</th>\n",
              "      <th>day</th>\n",
              "      <th>extended</th>\n",
              "      <th>country</th>\n",
              "      <th>region</th>\n",
              "      <th>city</th>\n",
              "      <th>success</th>\n",
              "      <th>suicide</th>\n",
              "      <th>wound</th>\n",
              "      <th>killed</th>\n",
              "      <th>target</th>\n",
              "      <th>group</th>\n",
              "      <th>weapon</th>\n",
              "    </tr>\n",
              "  </thead>\n",
              "  <tbody>\n",
              "    <tr>\n",
              "      <th>0</th>\n",
              "      <td>1970</td>\n",
              "      <td>7</td>\n",
              "      <td>2</td>\n",
              "      <td>0</td>\n",
              "      <td>Dominican Republic</td>\n",
              "      <td>Central America &amp; Caribbean</td>\n",
              "      <td>Santo Domingo</td>\n",
              "      <td>1</td>\n",
              "      <td>0</td>\n",
              "      <td>0.0</td>\n",
              "      <td>1.0</td>\n",
              "      <td>Private Citizens &amp; Property</td>\n",
              "      <td>MANO-D</td>\n",
              "      <td>Unknown</td>\n",
              "    </tr>\n",
              "    <tr>\n",
              "      <th>1</th>\n",
              "      <td>1970</td>\n",
              "      <td>0</td>\n",
              "      <td>0</td>\n",
              "      <td>0</td>\n",
              "      <td>Mexico</td>\n",
              "      <td>North America</td>\n",
              "      <td>Mexico city</td>\n",
              "      <td>1</td>\n",
              "      <td>0</td>\n",
              "      <td>0.0</td>\n",
              "      <td>0.0</td>\n",
              "      <td>Government (Diplomatic)</td>\n",
              "      <td>23rd of September Communist League</td>\n",
              "      <td>Unknown</td>\n",
              "    </tr>\n",
              "    <tr>\n",
              "      <th>2</th>\n",
              "      <td>1970</td>\n",
              "      <td>1</td>\n",
              "      <td>0</td>\n",
              "      <td>0</td>\n",
              "      <td>Philippines</td>\n",
              "      <td>Southeast Asia</td>\n",
              "      <td>Unknown</td>\n",
              "      <td>1</td>\n",
              "      <td>0</td>\n",
              "      <td>0.0</td>\n",
              "      <td>1.0</td>\n",
              "      <td>Journalists &amp; Media</td>\n",
              "      <td>Unknown</td>\n",
              "      <td>Unknown</td>\n",
              "    </tr>\n",
              "    <tr>\n",
              "      <th>5</th>\n",
              "      <td>1970</td>\n",
              "      <td>1</td>\n",
              "      <td>1</td>\n",
              "      <td>0</td>\n",
              "      <td>United States</td>\n",
              "      <td>North America</td>\n",
              "      <td>Cairo</td>\n",
              "      <td>1</td>\n",
              "      <td>0</td>\n",
              "      <td>0.0</td>\n",
              "      <td>0.0</td>\n",
              "      <td>Police</td>\n",
              "      <td>Black Nationalists</td>\n",
              "      <td>Firearms</td>\n",
              "    </tr>\n",
              "    <tr>\n",
              "      <th>6</th>\n",
              "      <td>1970</td>\n",
              "      <td>1</td>\n",
              "      <td>2</td>\n",
              "      <td>0</td>\n",
              "      <td>Uruguay</td>\n",
              "      <td>South America</td>\n",
              "      <td>Montevideo</td>\n",
              "      <td>0</td>\n",
              "      <td>0</td>\n",
              "      <td>0.0</td>\n",
              "      <td>0.0</td>\n",
              "      <td>Police</td>\n",
              "      <td>Tupamaros (Uruguay)</td>\n",
              "      <td>Firearms</td>\n",
              "    </tr>\n",
              "  </tbody>\n",
              "</table>\n",
              "</div>"
            ],
            "text/plain": [
              "   year  month  day  extended             country  \\\n",
              "0  1970      7    2         0  Dominican Republic   \n",
              "1  1970      0    0         0              Mexico   \n",
              "2  1970      1    0         0         Philippines   \n",
              "5  1970      1    1         0       United States   \n",
              "6  1970      1    2         0             Uruguay   \n",
              "\n",
              "                        region           city  success  suicide  wound  \\\n",
              "0  Central America & Caribbean  Santo Domingo        1        0    0.0   \n",
              "1                North America    Mexico city        1        0    0.0   \n",
              "2               Southeast Asia        Unknown        1        0    0.0   \n",
              "5                North America          Cairo        1        0    0.0   \n",
              "6                South America     Montevideo        0        0    0.0   \n",
              "\n",
              "   killed                       target                               group  \\\n",
              "0     1.0  Private Citizens & Property                              MANO-D   \n",
              "1     0.0      Government (Diplomatic)  23rd of September Communist League   \n",
              "2     1.0          Journalists & Media                             Unknown   \n",
              "5     0.0                       Police                  Black Nationalists   \n",
              "6     0.0                       Police                 Tupamaros (Uruguay)   \n",
              "\n",
              "     weapon  \n",
              "0   Unknown  \n",
              "1   Unknown  \n",
              "2   Unknown  \n",
              "5  Firearms  \n",
              "6  Firearms  "
            ]
          },
          "metadata": {
            "tags": []
          },
          "execution_count": 11
        }
      ]
    },
    {
      "cell_type": "code",
      "metadata": {
        "scrolled": true,
        "id": "Z8bTxL-U86eo",
        "outputId": "1a05a854-d81c-4e82-da92-6166d7ca1807"
      },
      "source": [
        "data.columns"
      ],
      "execution_count": null,
      "outputs": [
        {
          "output_type": "execute_result",
          "data": {
            "text/plain": [
              "Index(['year', 'month', 'day', 'extended', 'country', 'region', 'city',\n",
              "       'success', 'suicide', 'wound', 'killed', 'target', 'group', 'weapon'],\n",
              "      dtype='object')"
            ]
          },
          "metadata": {
            "tags": []
          },
          "execution_count": 12
        }
      ]
    },
    {
      "cell_type": "markdown",
      "metadata": {
        "id": "xiNVqfyk86eq"
      },
      "source": [
        "### Statistics "
      ]
    },
    {
      "cell_type": "code",
      "metadata": {
        "id": "ObXRC7ax86es",
        "outputId": "8e12b472-b6dd-4234-812e-6b71fb5dcf50"
      },
      "source": [
        "data.describe().T"
      ],
      "execution_count": null,
      "outputs": [
        {
          "output_type": "execute_result",
          "data": {
            "text/html": [
              "<div>\n",
              "<style scoped>\n",
              "    .dataframe tbody tr th:only-of-type {\n",
              "        vertical-align: middle;\n",
              "    }\n",
              "\n",
              "    .dataframe tbody tr th {\n",
              "        vertical-align: top;\n",
              "    }\n",
              "\n",
              "    .dataframe thead th {\n",
              "        text-align: right;\n",
              "    }\n",
              "</style>\n",
              "<table border=\"1\" class=\"dataframe\">\n",
              "  <thead>\n",
              "    <tr style=\"text-align: right;\">\n",
              "      <th></th>\n",
              "      <th>count</th>\n",
              "      <th>mean</th>\n",
              "      <th>std</th>\n",
              "      <th>min</th>\n",
              "      <th>25%</th>\n",
              "      <th>50%</th>\n",
              "      <th>75%</th>\n",
              "      <th>max</th>\n",
              "    </tr>\n",
              "  </thead>\n",
              "  <tbody>\n",
              "    <tr>\n",
              "      <th>year</th>\n",
              "      <td>164384.0</td>\n",
              "      <td>2003.174348</td>\n",
              "      <td>12.789087</td>\n",
              "      <td>1970.0</td>\n",
              "      <td>1991.0</td>\n",
              "      <td>2009.0</td>\n",
              "      <td>2014.0</td>\n",
              "      <td>2017.0</td>\n",
              "    </tr>\n",
              "    <tr>\n",
              "      <th>month</th>\n",
              "      <td>164384.0</td>\n",
              "      <td>6.481999</td>\n",
              "      <td>3.388046</td>\n",
              "      <td>0.0</td>\n",
              "      <td>4.0</td>\n",
              "      <td>6.0</td>\n",
              "      <td>9.0</td>\n",
              "      <td>12.0</td>\n",
              "    </tr>\n",
              "    <tr>\n",
              "      <th>day</th>\n",
              "      <td>164384.0</td>\n",
              "      <td>15.516644</td>\n",
              "      <td>8.807003</td>\n",
              "      <td>0.0</td>\n",
              "      <td>8.0</td>\n",
              "      <td>15.0</td>\n",
              "      <td>23.0</td>\n",
              "      <td>31.0</td>\n",
              "    </tr>\n",
              "    <tr>\n",
              "      <th>extended</th>\n",
              "      <td>164384.0</td>\n",
              "      <td>0.033069</td>\n",
              "      <td>0.178817</td>\n",
              "      <td>0.0</td>\n",
              "      <td>0.0</td>\n",
              "      <td>0.0</td>\n",
              "      <td>0.0</td>\n",
              "      <td>1.0</td>\n",
              "    </tr>\n",
              "    <tr>\n",
              "      <th>success</th>\n",
              "      <td>164384.0</td>\n",
              "      <td>0.882160</td>\n",
              "      <td>0.322419</td>\n",
              "      <td>0.0</td>\n",
              "      <td>1.0</td>\n",
              "      <td>1.0</td>\n",
              "      <td>1.0</td>\n",
              "      <td>1.0</td>\n",
              "    </tr>\n",
              "    <tr>\n",
              "      <th>suicide</th>\n",
              "      <td>164384.0</td>\n",
              "      <td>0.037248</td>\n",
              "      <td>0.189370</td>\n",
              "      <td>0.0</td>\n",
              "      <td>0.0</td>\n",
              "      <td>0.0</td>\n",
              "      <td>0.0</td>\n",
              "      <td>1.0</td>\n",
              "    </tr>\n",
              "    <tr>\n",
              "      <th>wound</th>\n",
              "      <td>164384.0</td>\n",
              "      <td>3.168788</td>\n",
              "      <td>36.048736</td>\n",
              "      <td>0.0</td>\n",
              "      <td>0.0</td>\n",
              "      <td>0.0</td>\n",
              "      <td>2.0</td>\n",
              "      <td>8191.0</td>\n",
              "    </tr>\n",
              "    <tr>\n",
              "      <th>killed</th>\n",
              "      <td>164384.0</td>\n",
              "      <td>2.133419</td>\n",
              "      <td>9.821208</td>\n",
              "      <td>0.0</td>\n",
              "      <td>0.0</td>\n",
              "      <td>0.0</td>\n",
              "      <td>2.0</td>\n",
              "      <td>1384.0</td>\n",
              "    </tr>\n",
              "  </tbody>\n",
              "</table>\n",
              "</div>"
            ],
            "text/plain": [
              "             count         mean        std     min     25%     50%     75%  \\\n",
              "year      164384.0  2003.174348  12.789087  1970.0  1991.0  2009.0  2014.0   \n",
              "month     164384.0     6.481999   3.388046     0.0     4.0     6.0     9.0   \n",
              "day       164384.0    15.516644   8.807003     0.0     8.0    15.0    23.0   \n",
              "extended  164384.0     0.033069   0.178817     0.0     0.0     0.0     0.0   \n",
              "success   164384.0     0.882160   0.322419     0.0     1.0     1.0     1.0   \n",
              "suicide   164384.0     0.037248   0.189370     0.0     0.0     0.0     0.0   \n",
              "wound     164384.0     3.168788  36.048736     0.0     0.0     0.0     2.0   \n",
              "killed    164384.0     2.133419   9.821208     0.0     0.0     0.0     2.0   \n",
              "\n",
              "             max  \n",
              "year      2017.0  \n",
              "month       12.0  \n",
              "day         31.0  \n",
              "extended     1.0  \n",
              "success      1.0  \n",
              "suicide      1.0  \n",
              "wound     8191.0  \n",
              "killed    1384.0  "
            ]
          },
          "metadata": {
            "tags": []
          },
          "execution_count": 13
        }
      ]
    },
    {
      "cell_type": "markdown",
      "metadata": {
        "id": "4D_RwSZt86eu"
      },
      "source": [
        "# Visualization "
      ]
    },
    {
      "cell_type": "markdown",
      "metadata": {
        "id": "5CfOJhkG86ev"
      },
      "source": [
        "### Number of Terrorist attack in year wise"
      ]
    },
    {
      "cell_type": "code",
      "metadata": {
        "id": "zjRVsmgr86ew",
        "outputId": "b088ad76-cd66-46e9-f213-186d671734c5"
      },
      "source": [
        "plt.subplots(figsize=(10,8))\n",
        "sns.countplot('year',data=data,palette='rocket',edgecolor=sns.color_palette('dark',7))\n",
        "plt.xticks(rotation=90)\n",
        "plt.xlabel('Year of attack')\n",
        "plt.title('Number Of Terrorist Act Each Year')\n",
        "plt.show()"
      ],
      "execution_count": null,
      "outputs": [
        {
          "output_type": "display_data",
          "data": {
            "image/png": "[encoded data removed]",
            "text/plain": [
              "<Figure size 720x576 with 1 Axes>"
            ]
          },
          "metadata": {
            "tags": [],
            "needs_background": "light"
          }
        }
      ]
    },
    {
      "cell_type": "markdown",
      "metadata": {
        "id": "YEgrnrYz86ez"
      },
      "source": [
        "### Neat graph in year wise"
      ]
    },
    {
      "cell_type": "code",
      "metadata": {
        "scrolled": true,
        "id": "xBKN20hZ86e0",
        "outputId": "6903760e-c430-4d96-b04e-13c2251aa768"
      },
      "source": [
        "data['Decade'] = pd.cut(data['year'], bins=[1969, 1980, 1990, 2000, 2010, 2020], labels=['1970-1980', '1980-1990', '1990-2000', '2000-2010', '2010-2017'])\n",
        "data[['year','Decade']].sample(10)"
      ],
      "execution_count": null,
      "outputs": [
        {
          "output_type": "execute_result",
          "data": {
            "text/html": [
              "<div>\n",
              "<style scoped>\n",
              "    .dataframe tbody tr th:only-of-type {\n",
              "        vertical-align: middle;\n",
              "    }\n",
              "\n",
              "    .dataframe tbody tr th {\n",
              "        vertical-align: top;\n",
              "    }\n",
              "\n",
              "    .dataframe thead th {\n",
              "        text-align: right;\n",
              "    }\n",
              "</style>\n",
              "<table border=\"1\" class=\"dataframe\">\n",
              "  <thead>\n",
              "    <tr style=\"text-align: right;\">\n",
              "      <th></th>\n",
              "      <th>year</th>\n",
              "      <th>Decade</th>\n",
              "    </tr>\n",
              "  </thead>\n",
              "  <tbody>\n",
              "    <tr>\n",
              "      <th>42183</th>\n",
              "      <td>1990</td>\n",
              "      <td>1980-1990</td>\n",
              "    </tr>\n",
              "    <tr>\n",
              "      <th>95674</th>\n",
              "      <td>2010</td>\n",
              "      <td>2000-2010</td>\n",
              "    </tr>\n",
              "    <tr>\n",
              "      <th>95773</th>\n",
              "      <td>2010</td>\n",
              "      <td>2000-2010</td>\n",
              "    </tr>\n",
              "    <tr>\n",
              "      <th>27863</th>\n",
              "      <td>1986</td>\n",
              "      <td>1980-1990</td>\n",
              "    </tr>\n",
              "    <tr>\n",
              "      <th>47032</th>\n",
              "      <td>1991</td>\n",
              "      <td>1990-2000</td>\n",
              "    </tr>\n",
              "    <tr>\n",
              "      <th>16766</th>\n",
              "      <td>1982</td>\n",
              "      <td>1980-1990</td>\n",
              "    </tr>\n",
              "    <tr>\n",
              "      <th>63213</th>\n",
              "      <td>1996</td>\n",
              "      <td>1990-2000</td>\n",
              "    </tr>\n",
              "    <tr>\n",
              "      <th>180300</th>\n",
              "      <td>2017</td>\n",
              "      <td>2010-2017</td>\n",
              "    </tr>\n",
              "    <tr>\n",
              "      <th>144340</th>\n",
              "      <td>2015</td>\n",
              "      <td>2010-2017</td>\n",
              "    </tr>\n",
              "    <tr>\n",
              "      <th>160173</th>\n",
              "      <td>2016</td>\n",
              "      <td>2010-2017</td>\n",
              "    </tr>\n",
              "  </tbody>\n",
              "</table>\n",
              "</div>"
            ],
            "text/plain": [
              "        year     Decade\n",
              "42183   1990  1980-1990\n",
              "95674   2010  2000-2010\n",
              "95773   2010  2000-2010\n",
              "27863   1986  1980-1990\n",
              "47032   1991  1990-2000\n",
              "16766   1982  1980-1990\n",
              "63213   1996  1990-2000\n",
              "180300  2017  2010-2017\n",
              "144340  2015  2010-2017\n",
              "160173  2016  2010-2017"
            ]
          },
          "metadata": {
            "tags": []
          },
          "execution_count": 15
        }
      ]
    },
    {
      "cell_type": "code",
      "metadata": {
        "id": "KLlPuW8n86e3",
        "outputId": "660bfc78-7c3d-42e7-fca7-501558095332"
      },
      "source": [
        "dec = data['Decade'].value_counts()\n",
        "\n",
        "colors= 'red','blue','purple','green','gold'\n",
        "plt.pie(dec,labels=dec.index,colors=colors,autopct='%1.1f%%', startangle=180)\n",
        "plt.axis('equal')\n",
        "plt.show()"
      ],
      "execution_count": null,
      "outputs": [
        {
          "output_type": "display_data",
          "data": {
            "image/png": "[encoded data removed]",
            "text/plain": [
              "<Figure size 432x288 with 1 Axes>"
            ]
          },
          "metadata": {
            "tags": []
          }
        }
      ]
    },
    {
      "cell_type": "markdown",
      "metadata": {
        "id": "M0cqltVl86e5"
      },
      "source": [
        "### Number of Terrorist attack by region wise"
      ]
    },
    {
      "cell_type": "code",
      "metadata": {
        "id": "9kKxHEYa86e6",
        "outputId": "a1eed7fc-503a-47d1-9c34-2eed737847b0"
      },
      "source": [
        "sns.countplot('region',data=data,palette='dark',order=data['region'].value_counts().index)\n",
        "plt.xticks(rotation=90)\n",
        "plt.xlabel('Regions')\n",
        "plt.title('Number Of Terrorist Activities By Region')\n",
        "plt.show()\n",
        "\n"
      ],
      "execution_count": null,
      "outputs": [
        {
          "output_type": "display_data",
          "data": {
            "image/png": "[encoded data removed]",
            "text/plain": [
              "<Figure size 432x288 with 1 Axes>"
            ]
          },
          "metadata": {
            "tags": [],
            "needs_background": "light"
          }
        }
      ]
    },
    {
      "cell_type": "markdown",
      "metadata": {
        "id": "5vNqTVIg86e8"
      },
      "source": [
        "### Which cities attack most time"
      ]
    },
    {
      "cell_type": "code",
      "metadata": {
        "id": "WNei1aWI86e9"
      },
      "source": [
        "\n",
        "\n",
        "def city_name(country=list(data['country'].unique())):\n",
        "    a=data[data['country']==country]\n",
        "    a=pd.DataFrame(a['city'].value_counts().iloc[1:10])\n",
        "    return a.style.highlight_max(axis=0, color='red').highlight_min(axis=0, color='green')\n"
      ],
      "execution_count": null,
      "outputs": []
    },
    {
      "cell_type": "code",
      "metadata": {
        "scrolled": true,
        "id": "sKAsAhnV86e-",
        "outputId": "6e63679e-789d-4139-a95b-01a70f814ed0"
      },
      "source": [
        "city_name(data['country'])"
      ],
      "execution_count": null,
      "outputs": [
        {
          "output_type": "execute_result",
          "data": {
            "text/html": [
              "<style  type=\"text/css\" >\n",
              "    #T_1a6937ce_b259_11eb_ac27_0897987056cerow0_col0 {\n",
              "            background-color:  red;\n",
              "            : ;\n",
              "        }    #T_1a6937ce_b259_11eb_ac27_0897987056cerow8_col0 {\n",
              "            : ;\n",
              "            background-color:  green;\n",
              "        }</style><table id=\"T_1a6937ce_b259_11eb_ac27_0897987056ce\" ><thead>    <tr>        <th class=\"blank level0\" ></th>        <th class=\"col_heading level0 col0\" >city</th>    </tr></thead><tbody>\n",
              "                <tr>\n",
              "                        <th id=\"T_1a6937ce_b259_11eb_ac27_0897987056celevel0_row0\" class=\"row_heading level0 row0\" >Baghdad</th>\n",
              "                        <td id=\"T_1a6937ce_b259_11eb_ac27_0897987056cerow0_col0\" class=\"data row0 col0\" >7374</td>\n",
              "            </tr>\n",
              "            <tr>\n",
              "                        <th id=\"T_1a6937ce_b259_11eb_ac27_0897987056celevel0_row1\" class=\"row_heading level0 row1\" >Karachi</th>\n",
              "                        <td id=\"T_1a6937ce_b259_11eb_ac27_0897987056cerow1_col0\" class=\"data row1 col0\" >2571</td>\n",
              "            </tr>\n",
              "            <tr>\n",
              "                        <th id=\"T_1a6937ce_b259_11eb_ac27_0897987056celevel0_row2\" class=\"row_heading level0 row2\" >Lima</th>\n",
              "                        <td id=\"T_1a6937ce_b259_11eb_ac27_0897987056cerow2_col0\" class=\"data row2 col0\" >2124</td>\n",
              "            </tr>\n",
              "            <tr>\n",
              "                        <th id=\"T_1a6937ce_b259_11eb_ac27_0897987056celevel0_row3\" class=\"row_heading level0 row3\" >Mosul</th>\n",
              "                        <td id=\"T_1a6937ce_b259_11eb_ac27_0897987056cerow3_col0\" class=\"data row3 col0\" >2114</td>\n",
              "            </tr>\n",
              "            <tr>\n",
              "                        <th id=\"T_1a6937ce_b259_11eb_ac27_0897987056celevel0_row4\" class=\"row_heading level0 row4\" >Mogadishu</th>\n",
              "                        <td id=\"T_1a6937ce_b259_11eb_ac27_0897987056cerow4_col0\" class=\"data row4 col0\" >1375</td>\n",
              "            </tr>\n",
              "            <tr>\n",
              "                        <th id=\"T_1a6937ce_b259_11eb_ac27_0897987056celevel0_row5\" class=\"row_heading level0 row5\" >Santiago</th>\n",
              "                        <td id=\"T_1a6937ce_b259_11eb_ac27_0897987056cerow5_col0\" class=\"data row5 col0\" >1354</td>\n",
              "            </tr>\n",
              "            <tr>\n",
              "                        <th id=\"T_1a6937ce_b259_11eb_ac27_0897987056celevel0_row6\" class=\"row_heading level0 row6\" >Belfast</th>\n",
              "                        <td id=\"T_1a6937ce_b259_11eb_ac27_0897987056cerow6_col0\" class=\"data row6 col0\" >1328</td>\n",
              "            </tr>\n",
              "            <tr>\n",
              "                        <th id=\"T_1a6937ce_b259_11eb_ac27_0897987056celevel0_row7\" class=\"row_heading level0 row7\" >San Salvador</th>\n",
              "                        <td id=\"T_1a6937ce_b259_11eb_ac27_0897987056cerow7_col0\" class=\"data row7 col0\" >1254</td>\n",
              "            </tr>\n",
              "            <tr>\n",
              "                        <th id=\"T_1a6937ce_b259_11eb_ac27_0897987056celevel0_row8\" class=\"row_heading level0 row8\" >Istanbul</th>\n",
              "                        <td id=\"T_1a6937ce_b259_11eb_ac27_0897987056cerow8_col0\" class=\"data row8 col0\" >1011</td>\n",
              "            </tr>\n",
              "    </tbody></table>"
            ],
            "text/plain": [
              "<pandas.io.formats.style.Styler at 0x1a30be66d90>"
            ]
          },
          "metadata": {
            "tags": []
          },
          "execution_count": 19
        }
      ]
    },
    {
      "cell_type": "markdown",
      "metadata": {
        "id": "SJzmPpTW86e_"
      },
      "source": [
        "### Which weapons Maximum used by terrorist"
      ]
    },
    {
      "cell_type": "code",
      "metadata": {
        "id": "3lh7PNLQ86fA"
      },
      "source": [
        "def weapon_type(country=list(data['country'].unique())):\n",
        "    a=data[data['country']==country]\n",
        "    a=pd.DataFrame(a['weapon'].value_counts())\n",
        "    return a.style.highlight_max(axis=0)\n"
      ],
      "execution_count": null,
      "outputs": []
    },
    {
      "cell_type": "code",
      "metadata": {
        "scrolled": true,
        "id": "1NlCrIIg86fB",
        "outputId": "43c10395-0832-454c-c73b-f6c84ec05395"
      },
      "source": [
        "weapon_type(data['country'])"
      ],
      "execution_count": null,
      "outputs": [
        {
          "output_type": "execute_result",
          "data": {
            "text/html": [
              "<style  type=\"text/css\" >\n",
              "    #T_2ccc863f_b259_11eb_ade9_0897987056cerow0_col0 {\n",
              "            background-color:  yellow;\n",
              "        }</style><table id=\"T_2ccc863f_b259_11eb_ade9_0897987056ce\" ><thead>    <tr>        <th class=\"blank level0\" ></th>        <th class=\"col_heading level0 col0\" >weapon</th>    </tr></thead><tbody>\n",
              "                <tr>\n",
              "                        <th id=\"T_2ccc863f_b259_11eb_ade9_0897987056celevel0_row0\" class=\"row_heading level0 row0\" >Explosives</th>\n",
              "                        <td id=\"T_2ccc863f_b259_11eb_ade9_0897987056cerow0_col0\" class=\"data row0 col0\" >86231</td>\n",
              "            </tr>\n",
              "            <tr>\n",
              "                        <th id=\"T_2ccc863f_b259_11eb_ade9_0897987056celevel0_row1\" class=\"row_heading level0 row1\" >Firearms</th>\n",
              "                        <td id=\"T_2ccc863f_b259_11eb_ade9_0897987056cerow1_col0\" class=\"data row1 col0\" >51645</td>\n",
              "            </tr>\n",
              "            <tr>\n",
              "                        <th id=\"T_2ccc863f_b259_11eb_ade9_0897987056celevel0_row2\" class=\"row_heading level0 row2\" >Unknown</th>\n",
              "                        <td id=\"T_2ccc863f_b259_11eb_ade9_0897987056cerow2_col0\" class=\"data row2 col0\" >12083</td>\n",
              "            </tr>\n",
              "            <tr>\n",
              "                        <th id=\"T_2ccc863f_b259_11eb_ade9_0897987056celevel0_row3\" class=\"row_heading level0 row3\" >Incendiary</th>\n",
              "                        <td id=\"T_2ccc863f_b259_11eb_ade9_0897987056cerow3_col0\" class=\"data row3 col0\" >10285</td>\n",
              "            </tr>\n",
              "            <tr>\n",
              "                        <th id=\"T_2ccc863f_b259_11eb_ade9_0897987056celevel0_row4\" class=\"row_heading level0 row4\" >Melee</th>\n",
              "                        <td id=\"T_2ccc863f_b259_11eb_ade9_0897987056cerow4_col0\" class=\"data row4 col0\" >3381</td>\n",
              "            </tr>\n",
              "            <tr>\n",
              "                        <th id=\"T_2ccc863f_b259_11eb_ade9_0897987056celevel0_row5\" class=\"row_heading level0 row5\" >Chemical</th>\n",
              "                        <td id=\"T_2ccc863f_b259_11eb_ade9_0897987056cerow5_col0\" class=\"data row5 col0\" >302</td>\n",
              "            </tr>\n",
              "            <tr>\n",
              "                        <th id=\"T_2ccc863f_b259_11eb_ade9_0897987056celevel0_row6\" class=\"row_heading level0 row6\" >Sabotage Equipment</th>\n",
              "                        <td id=\"T_2ccc863f_b259_11eb_ade9_0897987056cerow6_col0\" class=\"data row6 col0\" >136</td>\n",
              "            </tr>\n",
              "            <tr>\n",
              "                        <th id=\"T_2ccc863f_b259_11eb_ade9_0897987056celevel0_row7\" class=\"row_heading level0 row7\" >Vehicle (not to include vehicle-borne explosives, i.e., car or truck bombs)</th>\n",
              "                        <td id=\"T_2ccc863f_b259_11eb_ade9_0897987056cerow7_col0\" class=\"data row7 col0\" >133</td>\n",
              "            </tr>\n",
              "            <tr>\n",
              "                        <th id=\"T_2ccc863f_b259_11eb_ade9_0897987056celevel0_row8\" class=\"row_heading level0 row8\" >Other</th>\n",
              "                        <td id=\"T_2ccc863f_b259_11eb_ade9_0897987056cerow8_col0\" class=\"data row8 col0\" >109</td>\n",
              "            </tr>\n",
              "            <tr>\n",
              "                        <th id=\"T_2ccc863f_b259_11eb_ade9_0897987056celevel0_row9\" class=\"row_heading level0 row9\" >Fake Weapons</th>\n",
              "                        <td id=\"T_2ccc863f_b259_11eb_ade9_0897987056cerow9_col0\" class=\"data row9 col0\" >33</td>\n",
              "            </tr>\n",
              "            <tr>\n",
              "                        <th id=\"T_2ccc863f_b259_11eb_ade9_0897987056celevel0_row10\" class=\"row_heading level0 row10\" >Biological</th>\n",
              "                        <td id=\"T_2ccc863f_b259_11eb_ade9_0897987056cerow10_col0\" class=\"data row10 col0\" >32</td>\n",
              "            </tr>\n",
              "            <tr>\n",
              "                        <th id=\"T_2ccc863f_b259_11eb_ade9_0897987056celevel0_row11\" class=\"row_heading level0 row11\" >Radiological</th>\n",
              "                        <td id=\"T_2ccc863f_b259_11eb_ade9_0897987056cerow11_col0\" class=\"data row11 col0\" >14</td>\n",
              "            </tr>\n",
              "    </tbody></table>"
            ],
            "text/plain": [
              "<pandas.io.formats.style.Styler at 0x1a30e788fd0>"
            ]
          },
          "metadata": {
            "tags": []
          },
          "execution_count": 21
        }
      ]
    },
    {
      "cell_type": "code",
      "metadata": {
        "id": "2BJvHhJN86fC",
        "outputId": "49661b6d-5245-461c-d483-caf85c4a8595"
      },
      "source": [
        "sns.countplot('weapon',data=data,palette='bright',order=data['weapon'].value_counts().index)\n",
        "plt.xticks(rotation=90)\n",
        "plt.xlabel('weapons')\n",
        "plt.title('weapons of Terrorist')\n",
        "plt.show()"
      ],
      "execution_count": null,
      "outputs": [
        {
          "output_type": "display_data",
          "data": {
            "image/png": "[encoded data removed]",
            "text/plain": [
              "<Figure size 432x288 with 1 Axes>"
            ]
          },
          "metadata": {
            "tags": [],
            "needs_background": "light"
          }
        }
      ]
    },
    {
      "cell_type": "markdown",
      "metadata": {
        "id": "EBxfrLwT86fE"
      },
      "source": [
        "### What is target of Terrorist?"
      ]
    },
    {
      "cell_type": "code",
      "metadata": {
        "id": "el5WciYe86fG",
        "outputId": "a6309c08-81a6-4605-9199-dd057d859998"
      },
      "source": [
        "sns.countplot('target',data=data,palette='bright',order=data['target'].value_counts().index)\n",
        "plt.xticks(rotation=90)\n",
        "plt.xlabel('target')\n",
        "plt.title('Target of Terrorist')\n",
        "plt.show()"
      ],
      "execution_count": null,
      "outputs": [
        {
          "output_type": "display_data",
          "data": {
            "image/png": "[encoded data removed]",
            "text/plain": [
              "<Figure size 432x288 with 1 Axes>"
            ]
          },
          "metadata": {
            "tags": [],
            "needs_background": "light"
          }
        }
      ]
    },
    {
      "cell_type": "markdown",
      "metadata": {
        "id": "U95kUg4v86fI"
      },
      "source": [
        "### Which people highly affect"
      ]
    },
    {
      "cell_type": "code",
      "metadata": {
        "id": "7liqyPD-86fN",
        "outputId": "e174cb60-37a8-4f8f-869f-0fd30e68a804"
      },
      "source": [
        "d=data.groupby(['year','region'])['killed'].sum()\n",
        "plot_df = d.unstack('region').loc[:]\n",
        "plot_df.index = pd.PeriodIndex(plot_df.index.tolist(),freq='A')\n",
        "plot_df.plot(figsize=(15,8),color=sns.color_palette('dark',12))\n",
        "plt.xlabel(\"Year\")\n",
        "plt.ylabel(\"Wounded\")"
      ],
      "execution_count": null,
      "outputs": [
        {
          "output_type": "execute_result",
          "data": {
            "text/plain": [
              "Text(0, 0.5, 'Wounded')"
            ]
          },
          "metadata": {
            "tags": []
          },
          "execution_count": 24
        },
        {
          "output_type": "display_data",
          "data": {
            "image/png": "[encoded data removed]",
            "text/plain": [
              "<Figure size 1080x576 with 1 Axes>"
            ]
          },
          "metadata": {
            "tags": [],
            "needs_background": "light"
          }
        }
      ]
    },
    {
      "cell_type": "markdown",
      "metadata": {
        "id": "WJ298M6W86fP"
      },
      "source": [
        "### percentage of success and failure attacks"
      ]
    },
    {
      "cell_type": "code",
      "metadata": {
        "scrolled": true,
        "id": "yQ6fVabd86fQ",
        "outputId": "72782747-4438-4883-e5ec-870ca2738178"
      },
      "source": [
        "suc = data['success'].value_counts()\n",
        "suc"
      ],
      "execution_count": null,
      "outputs": [
        {
          "output_type": "execute_result",
          "data": {
            "text/plain": [
              "1    145013\n",
              "0     19371\n",
              "Name: success, dtype: int64"
            ]
          },
          "metadata": {
            "tags": []
          },
          "execution_count": 25
        }
      ]
    },
    {
      "cell_type": "code",
      "metadata": {
        "scrolled": false,
        "id": "e8tZRvOY86fT",
        "outputId": "da427602-d04c-4334-bcf8-decf67365ebd"
      },
      "source": [
        "labels = 'Successful', 'Failed'\n",
        "\n",
        "colors = ['red', 'green']\n",
        "explode = (0.25, 0)\n",
        "plt.pie(suc, labels=labels, explode=explode,colors=colors,autopct='%1.1f%%', shadow=True, startangle=200)\n",
        "plt.show()"
      ],
      "execution_count": null,
      "outputs": [
        {
          "output_type": "display_data",
          "data": {
            "image/png": "[encoded data removed]",
            "text/plain": [
              "<Figure size 432x288 with 1 Axes>"
            ]
          },
          "metadata": {
            "tags": []
          }
        }
      ]
    },
    {
      "cell_type": "markdown",
      "metadata": {
        "id": "b5TxBgkJ86fV"
      },
      "source": [
        "# Summarize:\n",
        "<li>**2010-2017** year is highly attacked by terrorist\n",
        "<li>**Middle East and North Africa** Region Mostly affect \n",
        "<li>In city wise **Baghdad** city highly affect\n",
        "<li>In terrorist moslty **use Explosive, firearms **weapon but they **leastuse any biological and radiology**\n",
        "<li>**Middle east and South Africa more people killed** by terrorist its is Hot zone\n",
        "<li>**88.2% **terrorist plane success remain **11.8% **they plan failed</div>"
      ]
    },
    {
      "cell_type": "code",
      "metadata": {
        "id": "sCxkqjIn86fY"
      },
      "source": [
        "\n"
      ],
      "execution_count": null,
      "outputs": []
    }
  ]
}